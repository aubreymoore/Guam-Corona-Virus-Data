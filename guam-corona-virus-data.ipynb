{
 "cells": [
  {
   "cell_type": "markdown",
   "metadata": {},
   "source": [
    "# Guam Carona Virus Data from Johns Hopkins\n",
    "\n",
    "## Data Source\n",
    "\n",
    "Data are sourced from a [GitHub data repository](https://github.com/CSSEGISandData/COVID-19) for the 2019 Novel Coronavirus Visual Dashboard operated by the Johns Hopkins University Center for Systems Science and Engineering (JHU CSSE).\n",
    "\n",
    "## Current Status\n",
    "\n",
    "When I started this project, grabbing the data was as easy as downloading a single CSV file, **time_series_covid19_confirmed_global.csv**. Unfortunately, the data mainainers decided to remove US state and county-level entries from this file (See https://github.com/CSSEGISandData/COVID-19/issues/1250#issue-585788363).\n",
    "Grabbing the raw data is now a lot more difficult. My **workaround** function contains code which I am using as a temporary work-around until restructuring of the JHU CSSEE data repo is completed. This code comes from https://github.com/CSSEGISandData/COVID-19/issues/1250#issuecomment-604561039."
   ]
  },
  {
   "cell_type": "code",
   "execution_count": 1,
   "metadata": {},
   "outputs": [],
   "source": [
    "%matplotlib inline\n",
    "import requests\n",
    "import datetime\n",
    "import pandas as pd\n",
    "import matplotlib\n",
    "import os\n",
    "import numpy as np\n",
    "import time"
   ]
  },
  {
   "cell_type": "code",
   "execution_count": 2,
   "metadata": {},
   "outputs": [],
   "source": [
    "def days_since_file_modified(filepath):\n",
    "    return (time.time() - os.path.getmtime(filepath))/(3600*24)"
   ]
  },
  {
   "cell_type": "code",
   "execution_count": 3,
   "metadata": {},
   "outputs": [],
   "source": [
    "def workaround():\n",
    "    \"\"\"\n",
    "    Downloads raw data from github.com/CSSEGISandData/COVID-19.\n",
    "    \n",
    "    I currently need only one of the dataframes defined here, so this is the only one returned: dfConfirmedUSStates\n",
    "    \n",
    "    This function contians contains code which I am using as a temporary work-around until restructuring of the \n",
    "    JHU CSSEE data repo is completed. This code comes from \n",
    "    https://github.com/CSSEGISandData/COVID-19/issues/1250#issuecomment-604561039.\n",
    "    \"\"\"\n",
    "\n",
    "    # Read all the files\n",
    "    dfConfirmedGlobal = pd.read_csv(r'https://raw.githubusercontent.com/CSSEGISandData/COVID-19/master/csse_covid_19_data/csse_covid_19_time_series/time_series_covid19_confirmed_global.csv')\n",
    "    dfDeathsGlobal = pd.read_csv(r'https://raw.githubusercontent.com/CSSEGISandData/COVID-19/master/csse_covid_19_data/csse_covid_19_time_series/time_series_covid19_deaths_global.csv')\n",
    "\n",
    "    baseURLFormat = 'https://raw.githubusercontent.com/CSSEGISandData/COVID-19/master/csse_covid_19_data/csse_covid_19_daily_reports/{}.csv'\n",
    "    filePaths = [baseURLFormat.format(d.strftime('%m-%d-%Y')) for d in pd.date_range('2020-03-23', pd.to_datetime('today')).tolist()]\n",
    "\n",
    "    df_from_each_file = []\n",
    "    for f in filePaths:\n",
    "        try:        \n",
    "            df_from_each_file.append(pd.read_csv(f))\n",
    "        except:\n",
    "            break\n",
    "    dfByDay = pd.concat(df_from_each_file, ignore_index=True)\n",
    "\n",
    "    dfConfirmedUS = pd.read_csv(r'https://raw.githubusercontent.com/CSSEGISandData/COVID-19/master/archived_data/archived_time_series/time_series_19-covid-Confirmed_archived_0325.csv')\n",
    "    dfConfirmedUS = dfConfirmedUS[dfConfirmedUS.columns[:-1]]\n",
    "    dfDeathsUS = pd.read_csv(r'https://raw.githubusercontent.com/CSSEGISandData/COVID-19/master/archived_data/archived_time_series/time_series_19-covid-Deaths_archived_0325.csv')\n",
    "    dfDeathsUS = dfDeathsUS[dfDeathsUS.columns[:-1]]\n",
    "\n",
    "    # Get US data only\n",
    "    dfConfirmedUS = dfConfirmedUS [(dfConfirmedUS['Country/Region'] == 'US') & (dfConfirmedUS['Province/State'] != 'US')]\n",
    "    dfDeathsUS = dfDeathsUS [(dfDeathsUS['Country/Region'] == 'US') & (dfDeathsUS['Province/State'] != 'US')]\n",
    "\n",
    "    # Merge columns after 3/23 when the timeseries broke\n",
    "    dfByDayState = dfByDay[dfByDay.Country_Region == 'US'].groupby(['Last_Update', 'Province_State']).agg({'Confirmed':sum, 'Deaths':sum}).unstack(level=0)\n",
    "    dfByDayStateConfirmed = dfByDayState[['Confirmed']]\n",
    "    dfByDayStateConfirmed.columns = dfByDayStateConfirmed.columns.droplevel().map(lambda x: pd.to_datetime(x).strftime('%#m/%d/%y'))\n",
    "\n",
    "    dfConfirmedUSStates = dfConfirmedUS.merge(dfByDayStateConfirmed, how='left', left_on='Province/State', right_on='Province_State')\n",
    "    dfConfirmedUSStates[dfConfirmedUSStates.columns[4:]] = dfConfirmedUSStates[dfConfirmedUSStates.columns[4:]].fillna(0).astype(np.int64)\n",
    "    dfConfirmedUSStates = dfConfirmedUSStates.sort_values(dfConfirmedUSStates.columns[-1], ascending = False)\n",
    "\n",
    "    dfByDayStateDeaths = dfByDayState[['Deaths']]\n",
    "    dfByDayStateDeaths.columns = dfByDayStateDeaths.columns.droplevel().map(lambda x: pd.to_datetime(x).strftime('%#m/%d/%y'))\n",
    "    dfDeathsUSStates = dfDeathsUS.merge(dfByDayStateDeaths, how='left', left_on='Province/State', right_on='Province_State')\n",
    "    dfDeathsUSStates[dfDeathsUSStates.columns[4:]] = dfDeathsUSStates[dfDeathsUSStates.columns[4:]].fillna(0).astype(np.int64)\n",
    "    dfDeathsUSStates = dfDeathsUSStates.sort_values(dfDeathsUSStates.columns[-1], ascending = False)\n",
    "\n",
    "    # Use dfConfirmedUSStates and dfDeathsUSStates\n",
    "    \n",
    "    return dfConfirmedUSStates"
   ]
  },
  {
   "cell_type": "code",
   "execution_count": 4,
   "metadata": {},
   "outputs": [],
   "source": [
    "def download_and_save_raw_data(raw_data_file):\n",
    "    \"\"\"\n",
    "    Download raw data as a CSV file from the Johns Hopkins GitHub repo and store it in a disk file.\n",
    "    \"\"\"\n",
    "    df = workaround()\n",
    "    df.to_csv(raw_data_file, index=False)"
   ]
  },
  {
   "cell_type": "code",
   "execution_count": 5,
   "metadata": {},
   "outputs": [],
   "source": [
    "def get_data(raw_data_file, place_name):\n",
    "    \"\"\"\n",
    "    Returns a data frame containing dates as an index and number of confirmed cases (cumulative) as a single column.\n",
    "    A copy of the data frame is saved to disk as a CSV file.\n",
    "   \n",
    "    Note: I found it easier to do the wrangling in a text representation of the CSV file rather than using \n",
    "    pandas methods. \n",
    "    \"\"\"\n",
    "    \n",
    "    # Read raw_data_file CSV as a list of strings\n",
    "    with open (raw_data_file, \"r\") as myfile:\n",
    "        csv = myfile.read().split('\\n')\n",
    "\n",
    "    # Column titles will be used as the index for the new dataframe    \n",
    "    column_titles = csv[0].split(',')\n",
    "\n",
    "    # Find the first line containing place_name as a substring\n",
    "    for line in csv:\n",
    "        if place_name in line:\n",
    "            data = line\n",
    "            break\n",
    "    data = data.split(',')\n",
    "\n",
    "    # Create a dict where key is dates and a single column is contains number of confirmed cases\n",
    "    data_dict = {}\n",
    "    for item in zip(column_titles, data):\n",
    "        if item[1].isdigit():\n",
    "            cases = int(item[1])\n",
    "            if cases > 0:\n",
    "                mdy = item[0].split('/')\n",
    "                date = datetime.datetime(year=2000 + int(mdy[2]), month=int(mdy[0]), day=int(mdy[1]))\n",
    "                data_dict[date] = cases\n",
    "\n",
    "    # Convert the dict to a data frame\n",
    "    df = pd.DataFrame.from_dict(data_dict, orient='index', columns=['cases'])\n",
    "    df.sort_index(inplace=True)\n",
    "    \n",
    "    # Save df to a csv file\n",
    "    df.to_csv('{}.csv'.format(place_name))\n",
    "    \n",
    "    return df\n",
    "\n",
    "#get_data('ConfirmedUSStates.csv', 'Guam')"
   ]
  },
  {
   "cell_type": "code",
   "execution_count": 6,
   "metadata": {},
   "outputs": [],
   "source": [
    "def plot_data(raw_data_file, place_name):\n",
    "    \"\"\"\n",
    "    Plots data in this notebook and also writes the plot to a PNG file.\n",
    "    \"\"\"\n",
    "    df = get_data(raw_data_file, place_name)\n",
    "    plot = df.plot(style='o', title='Confirmed CORVID19 cases in {}'.format(place_name))    \n",
    "    fig = plot.get_figure()\n",
    "    fig.savefig('images/{}.png'.format(place_name), bbox_inches='tight')\n",
    "        \n",
    "#plot_data('ConfirmedUSStates.csv', 'Guam')\n",
    "#plot_data('ConfirmedUSStates.csv', 'Hawaii')"
   ]
  },
  {
   "cell_type": "markdown",
   "metadata": {},
   "source": [
    "# MAIN"
   ]
  },
  {
   "cell_type": "code",
   "execution_count": 7,
   "metadata": {},
   "outputs": [
    {
     "name": "stdout",
     "output_type": "stream",
     "text": [
      "Refreshing ConfirmedUSStates.csv\n"
     ]
    },
    {
     "name": "stderr",
     "output_type": "stream",
     "text": [
      "/home/aubrey/.virtualenvs/py3env/lib/python3.5/site-packages/ipykernel_launcher.py:25: FutureWarning: Sorting because non-concatenation axis is not aligned. A future version\n",
      "of pandas will change to not sort by default.\n",
      "\n",
      "To accept the future behavior, pass 'sort=False'.\n",
      "\n",
      "To retain the current behavior and silence the warning, pass 'sort=True'.\n",
      "\n"
     ]
    },
    {
     "data": {
      "image/png": "[encoded data removed]",
      "text/plain": [
       "<Figure size 432x288 with 1 Axes>"
      ]
     },
     "metadata": {
      "needs_background": "light"
     },
     "output_type": "display_data"
    },
    {
     "data": {
      "image/png": "[encoded data removed]",
      "text/plain": [
       "<Figure size 432x288 with 1 Axes>"
      ]
     },
     "metadata": {
      "needs_background": "light"
     },
     "output_type": "display_data"
    },
    {
     "data": {
      "image/png": "[encoded data removed]",
      "text/plain": [
       "<Figure size 432x288 with 1 Axes>"
      ]
     },
     "metadata": {
      "needs_background": "light"
     },
     "output_type": "display_data"
    }
   ],
   "source": [
    "raw_data_file = 'ConfirmedUSStates.csv'\n",
    "\n",
    "#if days_since_file_modified(raw_data_file) > 0.5:\n",
    "print('Refreshing {}'.format(raw_data_file))\n",
    "download_and_save_raw_data(raw_data_file)\n",
    "    \n",
    "# Plot data for places of interest in the US\n",
    "plot_data(raw_data_file, 'Guam')  \n",
    "plot_data(raw_data_file, 'Hawaii')\n",
    "plot_data(raw_data_file, 'New York')"
   ]
  }
 ],
 "metadata": {
  "kernelspec": {
   "display_name": "Python3 (py3env)",
   "language": "python",
   "name": "py2env"
  },
  "language_info": {
   "codemirror_mode": {
    "name": "ipython",
    "version": 3
   },
   "file_extension": ".py",
   "mimetype": "text/x-python",
   "name": "python",
   "nbconvert_exporter": "python",
   "pygments_lexer": "ipython3",
   "version": "3.5.2"
  }
 },
 "nbformat": 4,
 "nbformat_minor": 2
}
