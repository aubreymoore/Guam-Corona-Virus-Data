{
 "cells": [
  {
   "cell_type": "code",
   "execution_count": 1,
   "metadata": {},
   "outputs": [],
   "source": [
    "import numpy as np\n",
    "import pandas as pd\n",
    "import scipy.optimize\n",
    "from scipy.misc import derivative\n",
    "import matplotlib.pyplot as plt\n",
    "import seaborn as sns\n",
    "rc={'lines.linewidth': 2, 'axes.labelsize': 18, 'axes.titlesize': 18}\n",
    "sns.set(rc=rc)\n",
    "\n",
    "# The following is specific Jupyter notebooks\n",
    "%matplotlib inline\n",
    "%config InlineBackend.figure_formats = {'png', 'retina'}"
   ]
  },
  {
   "cell_type": "markdown",
   "metadata": {},
   "source": [
    "## Utility functions"
   ]
  },
  {
   "cell_type": "code",
   "execution_count": 2,
   "metadata": {},
   "outputs": [],
   "source": [
    "def get_data(place_name):\n",
    "    filename = place_name + '.csv'\n",
    "    df = pd.read_csv(filename, index_col=0)\n",
    "    return df\n",
    "\n",
    "#get_data('Hawaii')"
   ]
  },
  {
   "cell_type": "code",
   "execution_count": 3,
   "metadata": {},
   "outputs": [],
   "source": [
    "def rmse(predictions, targets):\n",
    "    return np.sqrt(((predictions - targets) ** 2).mean())"
   ]
  },
  {
   "cell_type": "markdown",
   "metadata": {},
   "source": [
    "## Model definitions"
   ]
  },
  {
   "cell_type": "code",
   "execution_count": 4,
   "metadata": {},
   "outputs": [],
   "source": [
    "def exponential_model(t, nz, r):\n",
    "    return nz*np.exp(r*t)"
   ]
  },
  {
   "cell_type": "code",
   "execution_count": 5,
   "metadata": {},
   "outputs": [],
   "source": [
    "def linear_model(t, y_intercept, slope):\n",
    "    return y_intercept + slope * t"
   ]
  },
  {
   "cell_type": "code",
   "execution_count": 6,
   "metadata": {},
   "outputs": [],
   "source": [
    "def quadratic_model(t, n0, c1, c2):\n",
    "    return n0 + c1*t + c2*t*t"
   ]
  },
  {
   "cell_type": "code",
   "execution_count": 7,
   "metadata": {},
   "outputs": [],
   "source": [
    "# See https://www.kaggle.com/hotstaff/fitting-to-logistic-function-and-graph-drawing\n",
    "\n",
    "def logistic_model(t, K, P0, r):\n",
    "    return  (K / (1 + ((K-P0)/P0)*np.exp(-r*t)))"
   ]
  },
  {
   "cell_type": "markdown",
   "metadata": {},
   "source": [
    "## Curve fitter"
   ]
  },
  {
   "cell_type": "code",
   "execution_count": 8,
   "metadata": {},
   "outputs": [],
   "source": [
    "def fit_curve(place_name, df, model, p0, extrapolated_days=0):\n",
    "    \n",
    "    # Create list of days since first case confirmed\n",
    "    days = [i for i in range(df.size)]\n",
    "\n",
    "    # Do curve fit, but dump covariance into dummy variable\n",
    "    p, _ = scipy.optimize.curve_fit(model, days, df.cases, p0)\n",
    "    \n",
    "    # Calculate RMS error for fitted model\n",
    "    targets = df.cases.values\n",
    "    predictions = [model(day, *tuple(p)) for day in days]\n",
    "    rms_error = rmse(predictions, targets)  \n",
    "    \n",
    "    # Calc x and y values for fitted curve (100 values between zero and max(days) plus extrapolated days\n",
    "    x_smooth = np.linspace(0, max(days), 100)\n",
    "    y_smooth = model(x_smooth, *tuple(p))\n",
    "    \n",
    "    # Calc x, y for extrapolation\n",
    "    if extrapolated_days > 0:\n",
    "        x = np.linspace(max(days), max(days)+extrapolated_days, 100)\n",
    "        y = model(x, *tuple(p))\n",
    "        plt.plot(x, y, marker='None', linestyle='dotted', color='gray')\n",
    "\n",
    "    # Plot everything together\n",
    "    plt.plot(x_smooth, y_smooth, marker='None', linestyle='-', color='gray')\n",
    "    plt.plot(days, df.cases, marker='o', linestyle='none')\n",
    "\n",
    "    # make plot title and Label axes\n",
    "    if model == linear_model: \n",
    "        plt.title('{}\\nLast data point: {} UTC\\nLinear model\\nn0={:.0f}, slope={:.2f}, RMS error={:.2f}'\n",
    "            .format(place_name, df.index[-1], p[0], p[1], rms_error)),       \n",
    "    if model == quadratic_model: \n",
    "        plt.title('{}\\nLast data point: {} UTC\\nQuadratic model\\nn0={:.0f}, c1={:.2f}, c2={:.2f},RMS error={:.2f}'\n",
    "            .format(place_name, df.index[-1], p[0], p[1], p[2], rms_error)),                          \n",
    "    if model == exponential_model: \n",
    "        plt.title('{}\\nLast data point: {} UTC\\nExponential model\\nn0={:.0f}, r={:.2f}, RMS error={:.2f}'\n",
    "            .format(place_name, df.index[-1], p[0], p[1], rms_error)),    \n",
    "    if model == logistic_model: \n",
    "        plt.title('{}\\nLast data point: {} UTC\\nLogistic model\\nn0={:.0f}, r={:.2f}, k={:.0f}, RMS error={:.2f}'\n",
    "            .format(place_name, df.index[-1], p[1], p[2], p[0], rms_error))     \n",
    "    plt.xlabel('days since 1st confirmed case')\n",
    "    plt.ylabel('confirmed cases')\n",
    "    \n",
    "    # Save plot to files\n",
    "    plt.savefig('images/{}-{}-{}.png'.format(place_name, model.__name__, df.index[-1]), bbox_inches='tight')\n",
    "    plt.savefig('images/{}-{}-latest.png'.format(place_name, model.__name__), bbox_inches='tight')\n",
    "    \n",
    "    plt.show()\n",
    "    plt.close()   \n",
    "    \n",
    "    return\n",
    "\n",
    "#fit_curve('Hawaii', df, logistic_model, p0_logistic, 10)"
   ]
  },
  {
   "cell_type": "markdown",
   "metadata": {},
   "source": [
    "## Plot logistic model derivative"
   ]
  },
  {
   "cell_type": "code",
   "execution_count": 9,
   "metadata": {},
   "outputs": [],
   "source": [
    "def plot_logistic_model_derivative(place_name):\n",
    "    df = get_data(place_name)\n",
    "    days = [i for i in range(df.size)]\n",
    "\n",
    "    # Do curve fit, but dump covariance into dummy variable\n",
    "    p, _ = scipy.optimize.curve_fit(logistic_model, days, df.cases, p0_logistic)\n",
    "\n",
    "    # Calculate RMS error for fitted model\n",
    "    targets = df.cases.values\n",
    "    predictions = [logistic_model(day, *tuple(p)) for day in days]\n",
    "    rms_error = rmse(predictions, targets)  \n",
    "\n",
    "    # plot\n",
    "    fig = plt.figure()\n",
    "    ax1 = fig.add_subplot(111)\n",
    "    #ax2 = ax1.twiny()\n",
    "    #ax2.set_xlim(ax1.get_xlim())\n",
    "\n",
    "    x = np.linspace(0, max(days)+10, 100)\n",
    "    y = derivative(logistic_model, x, dx=0.001, args=p)\n",
    "    #plt.plot(x, logistic_model(x, *p))\n",
    "    ax1.plot(x, y)\n",
    "    plt.title('{}\\nLast data point: {} UTC\\nLogistic model derivative\\nn0={:.0f}, r={:.2f}, k={:.0f}, RMS error={:.2f}'\n",
    "        .format(place_name, df.index[-1], p[1], p[2], p[0], rms_error)) \n",
    "    ax1.set_xlabel('days since 1st confirmed case')\n",
    "    ax1.set_ylabel('confirmed cases');\n",
    "    #ax2.axis( ymin=ax1.ymin, ymax=ax1.ymax )\n",
    "\n",
    "    # Save plot to files\n",
    "    plt.savefig('images/{}-logistic-model-derivative-{}.eps'.format(place_name, df.index[-1]), bbox_inches='tight')\n",
    "    plt.savefig('images/{}-logistic-model-derivative-latest.eps'.format(place_name), bbox_inches='tight')\n",
    "    \n",
    "    plt.close()\n",
    "    \n",
    "    return"
   ]
  },
  {
   "cell_type": "code",
   "execution_count": 10,
   "metadata": {},
   "outputs": [
    {
     "data": {
      "text/plain": [
       "13466772.721334245"
      ]
     },
     "execution_count": 10,
     "metadata": {},
     "output_type": "execute_result"
    }
   ],
   "source": [
    "# Initial parameters for exponential model\n",
    "n_0 = 1\n",
    "r_0 = 0.33\n",
    "p0_exponential = np.array([n_0, r_0])\n",
    "\n",
    "df = get_data('Guam')\n",
    "days = [i for i in range(df.size)]\n",
    "\n",
    "# Do curve fit, but dump covariance into dummy variable\n",
    "p, _ = scipy.optimize.curve_fit(exponential_model, days, df.cases, p0_exponential)\n",
    "\n",
    "exponential_model(max(days)+90, *p)"
   ]
  },
  {
   "cell_type": "markdown",
   "metadata": {},
   "source": [
    "# MAIN"
   ]
  },
  {
   "cell_type": "code",
   "execution_count": 11,
   "metadata": {},
   "outputs": [],
   "source": [
    "place_names = ['Guam', 'Hawaii']\n",
    "\n",
    "# Initial parameters for linear model\n",
    "y_intercept_0 = 1\n",
    "slope_0 = 10\n",
    "p0_linear = np.array([y_intercept_0, slope_0])\n",
    "\n",
    "# Initial parameters for quadratic model\n",
    "n_0 = 1\n",
    "c1_0 = 4\n",
    "c2_0 = 0\n",
    "p0_quadratic = np.array([n_0, c1_0, c2_0])\n",
    "\n",
    "# Initial parameters for exponential model\n",
    "n_0 = 1\n",
    "r_0 = 0.33\n",
    "p0_exponential = np.array([n_0, r_0])\n",
    "\n",
    "# Initial parameters for logistic_model\n",
    "#K_0 = 1000\n",
    "K_0 = 200\n",
    "P0_0 = 1\n",
    "lr_0 = 0.33\n",
    "p0_logistic = np.array([K_0, P0_0, lr_0])\n",
    "\n",
    "for place_name in place_names:\n",
    "    df = get_data(place_name)\n",
    "    fit_curve(place_name=place_name, df=df, model=linear_model, p0=p0_linear, extrapolated_days=10)        \n",
    "    fit_curve(place_name=place_name, df=df, model=exponential_model, p0=p0_exponential, extrapolated_days=10)        \n",
    "    fit_curve(place_name=place_name, df=df, model=quadratic_model, p0=p0_quadratic, extrapolated_days=10)        \n",
    "    fit_curve(place_name=place_name, df=df, model=logistic_model, p0=p0_logistic, extrapolated_days=10)     \n",
    "    plot_logistic_model_derivative(place_name)    "
   ]
  }
 ],
 "metadata": {
  "kernelspec": {
   "display_name": "Python3 (py3env)",
   "language": "python",
   "name": "py2env"
  },
  "language_info": {
   "codemirror_mode": {
    "name": "ipython",
    "version": 3
   },
   "file_extension": ".py",
   "mimetype": "text/x-python",
   "name": "python",
   "nbconvert_exporter": "python",
   "pygments_lexer": "ipython3",
   "version": "3.5.2"
  }
 },
 "nbformat": 4,
 "nbformat_minor": 2
}
